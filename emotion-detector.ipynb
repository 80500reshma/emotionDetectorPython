{
 "cells": [
  {
   "cell_type": "code",
   "execution_count": 22,
   "metadata": {
    "_cell_guid": "b1076dfc-b9ad-4769-8c92-a6c4dae69d19",
    "_uuid": "8f2839f25d086af736a60e9eeb907d3b93b6e0e5"
   },
   "outputs": [
    {
     "name": "stdout",
     "output_type": "stream",
     "text": [
      "Collecting scipy\n",
      "  Downloading scipy-1.16.1-cp312-cp312-win_amd64.whl.metadata (60 kB)\n",
      "     ---------------------------------------- 0.0/60.8 kB ? eta -:--:--\n",
      "     ---------------------------------------- 0.0/60.8 kB ? eta -:--:--\n",
      "     ------ --------------------------------- 10.2/60.8 kB ? eta -:--:--\n",
      "     ------------ ------------------------- 20.5/60.8 kB 165.2 kB/s eta 0:00:01\n",
      "     ------------------------- ------------ 41.0/60.8 kB 245.8 kB/s eta 0:00:01\n",
      "     -------------------------------------- 60.8/60.8 kB 294.0 kB/s eta 0:00:00\n",
      "Requirement already satisfied: numpy<2.6,>=1.25.2 in c:\\users\\cryin\\work\\vc-emotion-detection-master\\virtua\\lib\\site-packages (from scipy) (2.2.6)\n",
      "Downloading scipy-1.16.1-cp312-cp312-win_amd64.whl (38.5 MB)\n",
      "   ---------------------------------------- 0.0/38.5 MB ? eta -:--:--\n",
      "   ---------------------------------------- 0.1/38.5 MB 1.7 MB/s eta 0:00:24\n",
      "   ---------------------------------------- 0.2/38.5 MB 2.4 MB/s eta 0:00:17\n",
      "   ---------------------------------------- 0.3/38.5 MB 2.5 MB/s eta 0:00:16\n",
      "   ---------------------------------------- 0.4/38.5 MB 2.9 MB/s eta 0:00:14\n",
      "   ---------------------------------------- 0.4/38.5 MB 1.9 MB/s eta 0:00:21\n",
      "    --------------------------------------- 0.6/38.5 MB 2.4 MB/s eta 0:00:17\n",
      "    --------------------------------------- 0.8/38.5 MB 2.4 MB/s eta 0:00:16\n",
      "   - -------------------------------------- 1.0/38.5 MB 2.9 MB/s eta 0:00:13\n",
      "   - -------------------------------------- 1.2/38.5 MB 2.9 MB/s eta 0:00:13\n",
      "   - -------------------------------------- 1.4/38.5 MB 3.0 MB/s eta 0:00:13\n",
      "   - -------------------------------------- 1.6/38.5 MB 3.2 MB/s eta 0:00:12\n",
      "   - -------------------------------------- 1.8/38.5 MB 3.3 MB/s eta 0:00:12\n",
      "   -- ------------------------------------- 1.9/38.5 MB 3.3 MB/s eta 0:00:11\n",
      "   -- ------------------------------------- 2.2/38.5 MB 3.4 MB/s eta 0:00:11\n",
      "   -- ------------------------------------- 2.5/38.5 MB 3.6 MB/s eta 0:00:11\n",
      "   -- ------------------------------------- 2.7/38.5 MB 3.8 MB/s eta 0:00:10\n",
      "   --- ------------------------------------ 3.1/38.5 MB 3.9 MB/s eta 0:00:09\n",
      "   --- ------------------------------------ 3.4/38.5 MB 4.1 MB/s eta 0:00:09\n",
      "   --- ------------------------------------ 3.7/38.5 MB 4.2 MB/s eta 0:00:09\n",
      "   --- ------------------------------------ 3.8/38.5 MB 4.1 MB/s eta 0:00:09\n",
      "   ---- ----------------------------------- 4.1/38.5 MB 4.3 MB/s eta 0:00:09\n",
      "   ---- ----------------------------------- 4.4/38.5 MB 4.3 MB/s eta 0:00:08\n",
      "   ---- ----------------------------------- 4.8/38.5 MB 4.5 MB/s eta 0:00:08\n",
      "   ----- ---------------------------------- 5.1/38.5 MB 4.7 MB/s eta 0:00:08\n",
      "   ----- ---------------------------------- 5.4/38.5 MB 4.8 MB/s eta 0:00:07\n",
      "   ----- ---------------------------------- 5.8/38.5 MB 4.8 MB/s eta 0:00:07\n",
      "   ------ --------------------------------- 6.1/38.5 MB 4.9 MB/s eta 0:00:07\n",
      "   ------ --------------------------------- 6.5/38.5 MB 5.0 MB/s eta 0:00:07\n",
      "   ------- -------------------------------- 6.8/38.5 MB 5.0 MB/s eta 0:00:07\n",
      "   ------- -------------------------------- 7.2/38.5 MB 5.1 MB/s eta 0:00:07\n",
      "   ------- -------------------------------- 7.3/38.5 MB 5.2 MB/s eta 0:00:07\n",
      "   ------- -------------------------------- 7.5/38.5 MB 5.0 MB/s eta 0:00:07\n",
      "   -------- ------------------------------- 7.8/38.5 MB 5.1 MB/s eta 0:00:07\n",
      "   -------- ------------------------------- 8.1/38.5 MB 5.1 MB/s eta 0:00:06\n",
      "   -------- ------------------------------- 8.6/38.5 MB 5.3 MB/s eta 0:00:06\n",
      "   --------- ------------------------------ 8.9/38.5 MB 5.3 MB/s eta 0:00:06\n",
      "   --------- ------------------------------ 9.2/38.5 MB 5.3 MB/s eta 0:00:06\n",
      "   --------- ------------------------------ 9.6/38.5 MB 5.4 MB/s eta 0:00:06\n",
      "   ---------- ----------------------------- 10.0/38.5 MB 5.5 MB/s eta 0:00:06\n",
      "   ---------- ----------------------------- 10.4/38.5 MB 5.7 MB/s eta 0:00:05\n",
      "   ----------- ---------------------------- 10.7/38.5 MB 6.1 MB/s eta 0:00:05\n",
      "   ----------- ---------------------------- 11.2/38.5 MB 6.4 MB/s eta 0:00:05\n",
      "   ----------- ---------------------------- 11.6/38.5 MB 6.5 MB/s eta 0:00:05\n",
      "   ------------ --------------------------- 11.8/38.5 MB 6.6 MB/s eta 0:00:05\n",
      "   ------------ --------------------------- 12.1/38.5 MB 6.7 MB/s eta 0:00:04\n",
      "   ------------ --------------------------- 12.5/38.5 MB 7.0 MB/s eta 0:00:04\n",
      "   ------------- -------------------------- 12.8/38.5 MB 7.0 MB/s eta 0:00:04\n",
      "   ------------- -------------------------- 13.3/38.5 MB 7.0 MB/s eta 0:00:04\n",
      "   -------------- ------------------------- 13.6/38.5 MB 7.1 MB/s eta 0:00:04\n",
      "   -------------- ------------------------- 14.0/38.5 MB 7.4 MB/s eta 0:00:04\n",
      "   --------------- ------------------------ 14.5/38.5 MB 7.4 MB/s eta 0:00:04\n",
      "   --------------- ------------------------ 14.8/38.5 MB 7.4 MB/s eta 0:00:04\n",
      "   --------------- ------------------------ 15.2/38.5 MB 7.5 MB/s eta 0:00:04\n",
      "   ---------------- ----------------------- 15.6/38.5 MB 7.5 MB/s eta 0:00:04\n",
      "   ---------------- ----------------------- 16.0/38.5 MB 7.6 MB/s eta 0:00:03\n",
      "   ---------------- ----------------------- 16.4/38.5 MB 7.6 MB/s eta 0:00:03\n",
      "   ----------------- ---------------------- 16.8/38.5 MB 7.6 MB/s eta 0:00:03\n",
      "   ----------------- ---------------------- 17.1/38.5 MB 7.7 MB/s eta 0:00:03\n",
      "   ------------------ --------------------- 17.5/38.5 MB 8.0 MB/s eta 0:00:03\n",
      "   ------------------ --------------------- 17.9/38.5 MB 8.1 MB/s eta 0:00:03\n",
      "   ------------------- -------------------- 18.3/38.5 MB 8.0 MB/s eta 0:00:03\n",
      "   ------------------- -------------------- 18.7/38.5 MB 8.1 MB/s eta 0:00:03\n",
      "   ------------------- -------------------- 19.0/38.5 MB 8.0 MB/s eta 0:00:03\n",
      "   -------------------- ------------------- 19.4/38.5 MB 8.1 MB/s eta 0:00:03\n",
      "   -------------------- ------------------- 19.8/38.5 MB 8.1 MB/s eta 0:00:03\n",
      "   -------------------- ------------------- 20.1/38.5 MB 8.1 MB/s eta 0:00:03\n",
      "   --------------------- ------------------ 20.4/38.5 MB 8.0 MB/s eta 0:00:03\n",
      "   --------------------- ------------------ 20.7/38.5 MB 8.0 MB/s eta 0:00:03\n",
      "   --------------------- ------------------ 21.1/38.5 MB 8.0 MB/s eta 0:00:03\n",
      "   ---------------------- ----------------- 21.5/38.5 MB 8.0 MB/s eta 0:00:03\n",
      "   ---------------------- ----------------- 21.8/38.5 MB 7.9 MB/s eta 0:00:03\n",
      "   ----------------------- ---------------- 22.3/38.5 MB 8.1 MB/s eta 0:00:03\n",
      "   ----------------------- ---------------- 22.6/38.5 MB 8.1 MB/s eta 0:00:02\n",
      "   ----------------------- ---------------- 23.0/38.5 MB 8.1 MB/s eta 0:00:02\n",
      "   ------------------------ --------------- 23.4/38.5 MB 8.0 MB/s eta 0:00:02\n",
      "   ------------------------ --------------- 23.8/38.5 MB 8.0 MB/s eta 0:00:02\n",
      "   ------------------------- -------------- 24.2/38.5 MB 8.1 MB/s eta 0:00:02\n",
      "   ------------------------- -------------- 24.5/38.5 MB 8.0 MB/s eta 0:00:02\n",
      "   ------------------------- -------------- 24.9/38.5 MB 8.0 MB/s eta 0:00:02\n",
      "   -------------------------- ------------- 25.3/38.5 MB 8.0 MB/s eta 0:00:02\n",
      "   -------------------------- ------------- 25.7/38.5 MB 8.0 MB/s eta 0:00:02\n",
      "   --------------------------- ------------ 26.0/38.5 MB 8.0 MB/s eta 0:00:02\n",
      "   --------------------------- ------------ 26.4/38.5 MB 8.0 MB/s eta 0:00:02\n",
      "   --------------------------- ------------ 26.7/38.5 MB 7.9 MB/s eta 0:00:02\n",
      "   ---------------------------- ----------- 27.1/38.5 MB 7.9 MB/s eta 0:00:02\n",
      "   ---------------------------- ----------- 27.4/38.5 MB 7.9 MB/s eta 0:00:02\n",
      "   ---------------------------- ----------- 27.8/38.5 MB 7.8 MB/s eta 0:00:02\n",
      "   ----------------------------- ---------- 28.2/38.5 MB 7.9 MB/s eta 0:00:02\n",
      "   ----------------------------- ---------- 28.5/38.5 MB 7.8 MB/s eta 0:00:02\n",
      "   ----------------------------- ---------- 28.8/38.5 MB 7.8 MB/s eta 0:00:02\n",
      "   ------------------------------ --------- 29.1/38.5 MB 7.8 MB/s eta 0:00:02\n",
      "   ------------------------------ --------- 29.5/38.5 MB 7.7 MB/s eta 0:00:02\n",
      "   ------------------------------- -------- 29.9/38.5 MB 7.7 MB/s eta 0:00:02\n",
      "   ------------------------------- -------- 30.3/38.5 MB 7.8 MB/s eta 0:00:02\n",
      "   ------------------------------- -------- 30.6/38.5 MB 7.8 MB/s eta 0:00:02\n",
      "   -------------------------------- ------- 31.0/38.5 MB 7.9 MB/s eta 0:00:01\n",
      "   -------------------------------- ------- 31.3/38.5 MB 7.8 MB/s eta 0:00:01\n",
      "   -------------------------------- ------- 31.7/38.5 MB 7.8 MB/s eta 0:00:01\n",
      "   --------------------------------- ------ 32.1/38.5 MB 7.9 MB/s eta 0:00:01\n",
      "   --------------------------------- ------ 32.5/38.5 MB 7.8 MB/s eta 0:00:01\n",
      "   ---------------------------------- ----- 32.9/38.5 MB 7.9 MB/s eta 0:00:01\n",
      "   ---------------------------------- ----- 33.3/38.5 MB 7.9 MB/s eta 0:00:01\n",
      "   ---------------------------------- ----- 33.6/38.5 MB 7.9 MB/s eta 0:00:01\n",
      "   ----------------------------------- ---- 34.0/38.5 MB 7.8 MB/s eta 0:00:01\n",
      "   ----------------------------------- ---- 34.4/38.5 MB 7.9 MB/s eta 0:00:01\n",
      "   ------------------------------------ --- 34.8/38.5 MB 7.9 MB/s eta 0:00:01\n",
      "   ------------------------------------ --- 35.1/38.5 MB 7.8 MB/s eta 0:00:01\n",
      "   ------------------------------------ --- 35.4/38.5 MB 7.8 MB/s eta 0:00:01\n",
      "   ------------------------------------- -- 35.9/38.5 MB 7.8 MB/s eta 0:00:01\n",
      "   ------------------------------------- -- 36.2/38.5 MB 7.8 MB/s eta 0:00:01\n",
      "   -------------------------------------- - 36.6/38.5 MB 7.8 MB/s eta 0:00:01\n",
      "   -------------------------------------- - 36.8/38.5 MB 7.7 MB/s eta 0:00:01\n",
      "   -------------------------------------- - 37.1/38.5 MB 7.7 MB/s eta 0:00:01\n",
      "   -------------------------------------- - 37.4/38.5 MB 7.6 MB/s eta 0:00:01\n",
      "   -------------------------------------- - 37.4/38.5 MB 7.5 MB/s eta 0:00:01\n",
      "   ---------------------------------------  37.6/38.5 MB 7.4 MB/s eta 0:00:01\n",
      "   ---------------------------------------  37.7/38.5 MB 7.1 MB/s eta 0:00:01\n",
      "   ---------------------------------------  38.2/38.5 MB 7.2 MB/s eta 0:00:01\n",
      "   ---------------------------------------  38.4/38.5 MB 7.1 MB/s eta 0:00:01\n",
      "   ---------------------------------------  38.5/38.5 MB 7.0 MB/s eta 0:00:01\n",
      "   ---------------------------------------- 38.5/38.5 MB 6.8 MB/s eta 0:00:00\n",
      "Installing collected packages: scipy\n",
      "Successfully installed scipy-1.16.1\n"
     ]
    },
    {
     "name": "stderr",
     "output_type": "stream",
     "text": [
      "\n",
      "[notice] A new release of pip is available: 24.0 -> 25.2\n",
      "[notice] To update, run: python.exe -m pip install --upgrade pip\n"
     ]
    }
   ],
   "source": [
    "# !pip install pandas\n",
    "# !pip install os\n",
    "# !pip install matplotlib\n",
    "# !pip install seaborn \n",
    "# !pip install tensorflow\n",
    "# !pip install keras\n",
    "# !pip install opencv-python\n",
    "# !pip install scipy"
   ]
  },
  {
   "cell_type": "code",
   "execution_count": 8,
   "metadata": {
    "_cell_guid": "b1076dfc-b9ad-4769-8c92-a6c4dae69d19",
    "_uuid": "8f2839f25d086af736a60e9eeb907d3b93b6e0e5"
   },
   "outputs": [],
   "source": [
    "import numpy as np # linear algebra\n",
    "import pandas as pd # data processing, CSV file I/O (e.g. pd.read_csv)\n",
    "import os\n",
    "#for dirname, _, filenames in os.walk('/kaggle/input'):\n",
    "    #for filename in filenames:\n",
    "        #print(os.path.join(dirname, filename))\n",
    "import matplotlib.pyplot as plt\n",
    "import seaborn as sns\n",
    "import tensorflow as tf\n",
    "import keras\n",
    "from keras.preprocessing import image\n",
    "from keras.models import Sequential\n",
    "from keras.layers import Conv2D, MaxPool2D, Flatten,Dense,Dropout,BatchNormalization\n",
    "from tensorflow.keras.preprocessing.image import ImageDataGenerator\n",
    "import cv2\n",
    "from tensorflow.keras.applications import VGG16, InceptionResNetV2\n",
    "from keras import regularizers\n",
    "from tensorflow.keras.optimizers import Adam,RMSprop,SGD,Adamax"
   ]
  },
  {
   "cell_type": "code",
   "execution_count": 10,
   "metadata": {},
   "outputs": [],
   "source": [
    "train_dir = \"C:/Users/cryin/Work/vc-emotion-detection-master/dataset/test\" #passing the path with training images\n",
    "test_dir = \"C:/Users/cryin/Work/vc-emotion-detection-master/dataset/train\"   #passing the path with testing images"
   ]
  },
  {
   "cell_type": "code",
   "execution_count": 11,
   "metadata": {},
   "outputs": [],
   "source": [
    "img_size = 48 #original size of the image"
   ]
  },
  {
   "cell_type": "code",
   "execution_count": 12,
   "metadata": {},
   "outputs": [],
   "source": [
    "\"\"\"\n",
    "Data Augmentation\n",
    "--------------------------\n",
    "rotation_range = rotates the image with the amount of degrees we provide\n",
    "width_shift_range = shifts the image randomly to the right or left along the width of the image\n",
    "height_shift range = shifts image randomly to up or below along the height of the image\n",
    "horizontal_flip = flips the image horizontally\n",
    "rescale = to scale down the pizel values in our image between 0 and 1\n",
    "zoom_range = applies random zoom to our object\n",
    "validation_split = reserves some images to be used for validation purpose\n",
    "\"\"\"\n",
    "\n",
    "train_datagen = ImageDataGenerator(#rotation_range = 180,\n",
    "                                         width_shift_range = 0.1,\n",
    "                                         height_shift_range = 0.1,\n",
    "                                         horizontal_flip = True,\n",
    "                                         rescale = 1./255,\n",
    "                                         #zoom_range = 0.2,\n",
    "                                         validation_split = 0.2\n",
    "                                        )\n",
    "validation_datagen = ImageDataGenerator(rescale = 1./255,\n",
    "                                         validation_split = 0.2)"
   ]
  },
  {
   "cell_type": "code",
   "execution_count": 13,
   "metadata": {},
   "outputs": [
    {
     "name": "stdout",
     "output_type": "stream",
     "text": [
      "Found 5746 images belonging to 7 classes.\n",
      "Found 5741 images belonging to 7 classes.\n"
     ]
    }
   ],
   "source": [
    "\"\"\"\n",
    "Applying data augmentation to the images as we read \n",
    "them from their respectivve directories\n",
    "\"\"\"\n",
    "train_generator = train_datagen.flow_from_directory(directory = train_dir,\n",
    "                                                    target_size = (img_size,img_size),\n",
    "                                                    batch_size = 64,\n",
    "                                                    color_mode = \"grayscale\",\n",
    "                                                    class_mode = \"categorical\",\n",
    "                                                    subset = \"training\"\n",
    "                                                   )\n",
    "validation_generator = validation_datagen.flow_from_directory( directory = test_dir,\n",
    "                                                              target_size = (img_size,img_size),\n",
    "                                                              batch_size = 64,\n",
    "                                                              color_mode = \"grayscale\",\n",
    "                                                              class_mode = \"categorical\",\n",
    "                                                              subset = \"validation\"\n",
    "                                                             )"
   ]
  },
  {
   "cell_type": "code",
   "execution_count": 15,
   "metadata": {},
   "outputs": [
    {
     "data": {
      "text/plain": [
       "\"\\nModeling\\n\\n\\nmodel = Sequential()\\nmodel.add(Conv2D(filters = 64,kernel_size = (3,3),padding = 'same',activation = 'relu',input_shape=(img_size,img_size,1)))\\nmodel.add(MaxPool2D(pool_size = 2,strides = 2))\\nmodel.add(BatchNormalization())\\n\\nmodel.add(Conv2D(filters = 128,kernel_size = (3,3),padding = 'same',activation = 'relu'))\\nmodel.add(MaxPool2D(pool_size = 2,strides = 2))\\nmodel.add(BatchNormalization())\\nmodel.add(Dropout(0.25))\\n\\nmodel.add(Conv2D(filters = 128,kernel_size = (3,3),padding = 'same',activation = 'relu'))\\nmodel.add(MaxPool2D(pool_size = 2,strides = 2))\\nmodel.add(BatchNormalization())\\nmodel.add(Dropout(0.25))\\n\\nmodel.add(Conv2D(filters = 256,kernel_size = (3,3),padding = 'same',activation = 'relu'))\\nmodel.add(MaxPool2D(pool_size = 2,strides = 2))\\nmodel.add(BatchNormalization())\\n\\nmodel.add(Flatten())\\nmodel.add(Dense(units = 128,activation = 'relu',kernel_initializer='he_normal'))\\nmodel.add(Dropout(0.25))\\nmodel.add(Dense(units = 64,activation = 'relu',kernel_initializer='he_normal'))\\nmodel.add(BatchNormalization())\\nmodel.add(Dropout(0.25))\\nmodel.add(Dense(units = 32,activation = 'relu',kernel_initializer='he_normal'))\\nmodel.add(Dense(7,activation = 'softmax'))\\n\\n\""
      ]
     },
     "execution_count": 15,
     "metadata": {},
     "output_type": "execute_result"
    }
   ],
   "source": [
    "\"\"\"\n",
    "Modeling\n",
    "\n",
    "\n",
    "model = Sequential()\n",
    "model.add(Conv2D(filters = 64,kernel_size = (3,3),padding = 'same',activation = 'relu',input_shape=(img_size,img_size,1)))\n",
    "model.add(MaxPool2D(pool_size = 2,strides = 2))\n",
    "model.add(BatchNormalization())\n",
    "\n",
    "model.add(Conv2D(filters = 128,kernel_size = (3,3),padding = 'same',activation = 'relu'))\n",
    "model.add(MaxPool2D(pool_size = 2,strides = 2))\n",
    "model.add(BatchNormalization())\n",
    "model.add(Dropout(0.25))\n",
    "\n",
    "model.add(Conv2D(filters = 128,kernel_size = (3,3),padding = 'same',activation = 'relu'))\n",
    "model.add(MaxPool2D(pool_size = 2,strides = 2))\n",
    "model.add(BatchNormalization())\n",
    "model.add(Dropout(0.25))\n",
    "\n",
    "model.add(Conv2D(filters = 256,kernel_size = (3,3),padding = 'same',activation = 'relu'))\n",
    "model.add(MaxPool2D(pool_size = 2,strides = 2))\n",
    "model.add(BatchNormalization())\n",
    "\n",
    "model.add(Flatten())\n",
    "model.add(Dense(units = 128,activation = 'relu',kernel_initializer='he_normal'))\n",
    "model.add(Dropout(0.25))\n",
    "model.add(Dense(units = 64,activation = 'relu',kernel_initializer='he_normal'))\n",
    "model.add(BatchNormalization())\n",
    "model.add(Dropout(0.25))\n",
    "model.add(Dense(units = 32,activation = 'relu',kernel_initializer='he_normal'))\n",
    "model.add(Dense(7,activation = 'softmax'))\n",
    "\n",
    "\"\"\""
   ]
  },
  {
   "cell_type": "code",
   "execution_count": 17,
   "metadata": {},
   "outputs": [],
   "source": [
    "model= tf.keras.models.Sequential()\n",
    "model.add(Conv2D(32, kernel_size=(3, 3), padding='same', activation='relu', input_shape=(48, 48,1)))\n",
    "model.add(Conv2D(64,(3,3), padding='same', activation='relu' ))\n",
    "model.add(BatchNormalization())\n",
    "model.add(MaxPool2D(pool_size=(2, 2)))\n",
    "model.add(Dropout(0.25))\n",
    "\n",
    "model.add(Conv2D(128,(5,5), padding='same', activation='relu'))\n",
    "model.add(BatchNormalization())\n",
    "model.add(MaxPool2D(pool_size=(2, 2)))\n",
    "model.add(Dropout(0.25))\n",
    "    \n",
    "model.add(Conv2D(512,(3,3), padding='same', activation='relu', kernel_regularizer=regularizers.l2(0.01)))\n",
    "model.add(BatchNormalization())\n",
    "model.add(MaxPool2D(pool_size=(2, 2)))\n",
    "model.add(Dropout(0.25))\n",
    "\n",
    "model.add(Conv2D(512,(3,3), padding='same', activation='relu', kernel_regularizer=regularizers.l2(0.01)))\n",
    "model.add(BatchNormalization())\n",
    "model.add(MaxPool2D(pool_size=(2, 2)))\n",
    "model.add(Dropout(0.25))\n",
    "\n",
    "model.add(Flatten()) \n",
    "model.add(Dense(256,activation = 'relu'))\n",
    "model.add(BatchNormalization())\n",
    "model.add(Dropout(0.25))\n",
    "    \n",
    "model.add(Dense(512,activation = 'relu'))\n",
    "model.add(BatchNormalization())\n",
    "model.add(Dropout(0.25))\n",
    "\n",
    "model.add(Dense(7, activation='softmax'))\n",
    "\n",
    "model.compile(\n",
    "    optimizer = Adam(learning_rate=0.0001), \n",
    "    loss='categorical_crossentropy', \n",
    "    metrics=['accuracy']\n",
    "  )"
   ]
  },
  {
   "cell_type": "code",
   "execution_count": 40,
   "metadata": {},
   "outputs": [],
   "source": []
  },
  {
   "cell_type": "code",
   "execution_count": 43,
   "metadata": {},
   "outputs": [],
   "source": [
    "# model.summary()"
   ]
  },
  {
   "cell_type": "code",
   "execution_count": 44,
   "metadata": {},
   "outputs": [
    {
     "name": "stdout",
     "output_type": "stream",
     "text": [
      "Epoch 1/100\n",
      "\u001b[1m90/90\u001b[0m \u001b[32m━━━━━━━━━━━━━━━━━━━━\u001b[0m\u001b[37m\u001b[0m \u001b[1m55s\u001b[0m 612ms/step - accuracy: 0.8622 - loss: 1.1644 - val_accuracy: 0.5901 - val_loss: 2.5132\n",
      "Epoch 2/100\n",
      "\u001b[1m90/90\u001b[0m \u001b[32m━━━━━━━━━━━━━━━━━━━━\u001b[0m\u001b[37m\u001b[0m \u001b[1m52s\u001b[0m 578ms/step - accuracy: 0.8601 - loss: 1.1744 - val_accuracy: 0.5959 - val_loss: 2.3620\n",
      "Epoch 3/100\n",
      "\u001b[1m90/90\u001b[0m \u001b[32m━━━━━━━━━━━━━━━━━━━━\u001b[0m\u001b[37m\u001b[0m \u001b[1m52s\u001b[0m 584ms/step - accuracy: 0.8679 - loss: 1.1510 - val_accuracy: 0.5905 - val_loss: 2.4143\n",
      "Epoch 4/100\n",
      "\u001b[1m90/90\u001b[0m \u001b[32m━━━━━━━━━━━━━━━━━━━━\u001b[0m\u001b[37m\u001b[0m \u001b[1m53s\u001b[0m 584ms/step - accuracy: 0.8599 - loss: 1.1712 - val_accuracy: 0.5955 - val_loss: 2.3966\n",
      "Epoch 5/100\n",
      "\u001b[1m90/90\u001b[0m \u001b[32m━━━━━━━━━━━━━━━━━━━━\u001b[0m\u001b[37m\u001b[0m \u001b[1m53s\u001b[0m 585ms/step - accuracy: 0.8556 - loss: 1.1704 - val_accuracy: 0.5881 - val_loss: 2.3687\n",
      "Epoch 6/100\n",
      "\u001b[1m90/90\u001b[0m \u001b[32m━━━━━━━━━━━━━━━━━━━━\u001b[0m\u001b[37m\u001b[0m \u001b[1m52s\u001b[0m 576ms/step - accuracy: 0.8672 - loss: 1.1517 - val_accuracy: 0.6048 - val_loss: 2.3104\n",
      "Epoch 7/100\n",
      "\u001b[1m90/90\u001b[0m \u001b[32m━━━━━━━━━━━━━━━━━━━━\u001b[0m\u001b[37m\u001b[0m \u001b[1m52s\u001b[0m 578ms/step - accuracy: 0.8719 - loss: 1.1523 - val_accuracy: 0.6009 - val_loss: 2.3210\n",
      "Epoch 8/100\n",
      "\u001b[1m90/90\u001b[0m \u001b[32m━━━━━━━━━━━━━━━━━━━━\u001b[0m\u001b[37m\u001b[0m \u001b[1m52s\u001b[0m 578ms/step - accuracy: 0.8623 - loss: 1.1586 - val_accuracy: 0.6030 - val_loss: 2.3555\n",
      "Epoch 9/100\n",
      "\u001b[1m90/90\u001b[0m \u001b[32m━━━━━━━━━━━━━━━━━━━━\u001b[0m\u001b[37m\u001b[0m \u001b[1m52s\u001b[0m 574ms/step - accuracy: 0.8587 - loss: 1.1742 - val_accuracy: 0.5997 - val_loss: 2.3821\n",
      "Epoch 10/100\n",
      "\u001b[1m90/90\u001b[0m \u001b[32m━━━━━━━━━━━━━━━━━━━━\u001b[0m\u001b[37m\u001b[0m \u001b[1m52s\u001b[0m 576ms/step - accuracy: 0.8693 - loss: 1.1544 - val_accuracy: 0.5947 - val_loss: 2.4150\n",
      "Epoch 11/100\n",
      "\u001b[1m90/90\u001b[0m \u001b[32m━━━━━━━━━━━━━━━━━━━━\u001b[0m\u001b[37m\u001b[0m \u001b[1m52s\u001b[0m 574ms/step - accuracy: 0.8656 - loss: 1.1645 - val_accuracy: 0.5921 - val_loss: 2.4588\n",
      "Epoch 12/100\n",
      "\u001b[1m90/90\u001b[0m \u001b[32m━━━━━━━━━━━━━━━━━━━━\u001b[0m\u001b[37m\u001b[0m \u001b[1m51s\u001b[0m 571ms/step - accuracy: 0.8764 - loss: 1.1308 - val_accuracy: 0.6001 - val_loss: 2.3453\n",
      "Epoch 13/100\n",
      "\u001b[1m90/90\u001b[0m \u001b[32m━━━━━━━━━━━━━━━━━━━━\u001b[0m\u001b[37m\u001b[0m \u001b[1m52s\u001b[0m 573ms/step - accuracy: 0.8679 - loss: 1.1530 - val_accuracy: 0.5968 - val_loss: 2.3947\n",
      "Epoch 14/100\n",
      "\u001b[1m90/90\u001b[0m \u001b[32m━━━━━━━━━━━━━━━━━━━━\u001b[0m\u001b[37m\u001b[0m \u001b[1m51s\u001b[0m 571ms/step - accuracy: 0.8737 - loss: 1.1335 - val_accuracy: 0.5973 - val_loss: 2.4263\n",
      "Epoch 15/100\n",
      "\u001b[1m90/90\u001b[0m \u001b[32m━━━━━━━━━━━━━━━━━━━━\u001b[0m\u001b[37m\u001b[0m \u001b[1m52s\u001b[0m 574ms/step - accuracy: 0.8754 - loss: 1.1232 - val_accuracy: 0.6029 - val_loss: 2.4027\n",
      "Epoch 16/100\n",
      "\u001b[1m90/90\u001b[0m \u001b[32m━━━━━━━━━━━━━━━━━━━━\u001b[0m\u001b[37m\u001b[0m \u001b[1m51s\u001b[0m 571ms/step - accuracy: 0.8785 - loss: 1.1300 - val_accuracy: 0.5943 - val_loss: 2.4748\n",
      "Epoch 17/100\n",
      "\u001b[1m90/90\u001b[0m \u001b[32m━━━━━━━━━━━━━━━━━━━━\u001b[0m\u001b[37m\u001b[0m \u001b[1m52s\u001b[0m 574ms/step - accuracy: 0.8700 - loss: 1.1509 - val_accuracy: 0.5938 - val_loss: 2.4166\n",
      "Epoch 18/100\n",
      "\u001b[1m90/90\u001b[0m \u001b[32m━━━━━━━━━━━━━━━━━━━━\u001b[0m\u001b[37m\u001b[0m \u001b[1m51s\u001b[0m 571ms/step - accuracy: 0.8731 - loss: 1.1351 - val_accuracy: 0.5908 - val_loss: 2.4184\n",
      "Epoch 19/100\n",
      "\u001b[1m90/90\u001b[0m \u001b[32m━━━━━━━━━━━━━━━━━━━━\u001b[0m\u001b[37m\u001b[0m \u001b[1m52s\u001b[0m 573ms/step - accuracy: 0.8677 - loss: 1.1484 - val_accuracy: 0.5966 - val_loss: 2.4319\n",
      "Epoch 20/100\n",
      "\u001b[1m90/90\u001b[0m \u001b[32m━━━━━━━━━━━━━━━━━━━━\u001b[0m\u001b[37m\u001b[0m \u001b[1m51s\u001b[0m 572ms/step - accuracy: 0.8787 - loss: 1.1188 - val_accuracy: 0.6069 - val_loss: 2.4040\n",
      "Epoch 21/100\n",
      "\u001b[1m90/90\u001b[0m \u001b[32m━━━━━━━━━━━━━━━━━━━━\u001b[0m\u001b[37m\u001b[0m \u001b[1m52s\u001b[0m 573ms/step - accuracy: 0.8834 - loss: 1.1151 - val_accuracy: 0.5804 - val_loss: 2.4276\n",
      "Epoch 22/100\n",
      "\u001b[1m90/90\u001b[0m \u001b[32m━━━━━━━━━━━━━━━━━━━━\u001b[0m\u001b[37m\u001b[0m \u001b[1m53s\u001b[0m 587ms/step - accuracy: 0.8846 - loss: 1.1130 - val_accuracy: 0.5997 - val_loss: 2.4393\n",
      "Epoch 23/100\n",
      "\u001b[1m90/90\u001b[0m \u001b[32m━━━━━━━━━━━━━━━━━━━━\u001b[0m\u001b[37m\u001b[0m \u001b[1m52s\u001b[0m 583ms/step - accuracy: 0.8674 - loss: 1.1493 - val_accuracy: 0.5881 - val_loss: 2.5555\n",
      "Epoch 24/100\n",
      "\u001b[1m90/90\u001b[0m \u001b[32m━━━━━━━━━━━━━━━━━━━━\u001b[0m\u001b[37m\u001b[0m \u001b[1m65s\u001b[0m 723ms/step - accuracy: 0.8646 - loss: 1.1548 - val_accuracy: 0.5891 - val_loss: 2.4557\n",
      "Epoch 25/100\n",
      "\u001b[1m90/90\u001b[0m \u001b[32m━━━━━━━━━━━━━━━━━━━━\u001b[0m\u001b[37m\u001b[0m \u001b[1m63s\u001b[0m 693ms/step - accuracy: 0.8726 - loss: 1.1538 - val_accuracy: 0.5854 - val_loss: 2.5312\n",
      "Epoch 26/100\n",
      "\u001b[1m90/90\u001b[0m \u001b[32m━━━━━━━━━━━━━━━━━━━━\u001b[0m\u001b[37m\u001b[0m \u001b[1m60s\u001b[0m 671ms/step - accuracy: 0.8738 - loss: 1.1336 - val_accuracy: 0.5987 - val_loss: 2.5054\n",
      "Epoch 27/100\n",
      "\u001b[1m90/90\u001b[0m \u001b[32m━━━━━━━━━━━━━━━━━━━━\u001b[0m\u001b[37m\u001b[0m \u001b[1m58s\u001b[0m 641ms/step - accuracy: 0.8815 - loss: 1.1149 - val_accuracy: 0.5905 - val_loss: 2.4648\n",
      "Epoch 28/100\n",
      "\u001b[1m90/90\u001b[0m \u001b[32m━━━━━━━━━━━━━━━━━━━━\u001b[0m\u001b[37m\u001b[0m \u001b[1m58s\u001b[0m 645ms/step - accuracy: 0.8737 - loss: 1.1286 - val_accuracy: 0.5975 - val_loss: 2.4344\n",
      "Epoch 29/100\n",
      "\u001b[1m90/90\u001b[0m \u001b[32m━━━━━━━━━━━━━━━━━━━━\u001b[0m\u001b[37m\u001b[0m \u001b[1m53s\u001b[0m 585ms/step - accuracy: 0.8827 - loss: 1.1156 - val_accuracy: 0.5962 - val_loss: 2.5073\n",
      "Epoch 30/100\n",
      "\u001b[1m90/90\u001b[0m \u001b[32m━━━━━━━━━━━━━━━━━━━━\u001b[0m\u001b[37m\u001b[0m \u001b[1m51s\u001b[0m 568ms/step - accuracy: 0.8827 - loss: 1.1212 - val_accuracy: 0.5995 - val_loss: 2.4549\n",
      "Epoch 31/100\n",
      "\u001b[1m90/90\u001b[0m \u001b[32m━━━━━━━━━━━━━━━━━━━━\u001b[0m\u001b[37m\u001b[0m \u001b[1m53s\u001b[0m 585ms/step - accuracy: 0.8810 - loss: 1.1190 - val_accuracy: 0.5980 - val_loss: 2.4245\n",
      "Epoch 32/100\n",
      "\u001b[1m90/90\u001b[0m \u001b[32m━━━━━━━━━━━━━━━━━━━━\u001b[0m\u001b[37m\u001b[0m \u001b[1m53s\u001b[0m 584ms/step - accuracy: 0.8853 - loss: 1.0916 - val_accuracy: 0.5931 - val_loss: 2.4650\n",
      "Epoch 33/100\n",
      "\u001b[1m90/90\u001b[0m \u001b[32m━━━━━━━━━━━━━━━━━━━━\u001b[0m\u001b[37m\u001b[0m \u001b[1m57s\u001b[0m 630ms/step - accuracy: 0.8764 - loss: 1.1267 - val_accuracy: 0.6023 - val_loss: 2.4393\n",
      "Epoch 34/100\n",
      "\u001b[1m90/90\u001b[0m \u001b[32m━━━━━━━━━━━━━━━━━━━━\u001b[0m\u001b[37m\u001b[0m \u001b[1m61s\u001b[0m 673ms/step - accuracy: 0.8836 - loss: 1.1043 - val_accuracy: 0.6090 - val_loss: 2.4156\n",
      "Epoch 35/100\n",
      "\u001b[1m90/90\u001b[0m \u001b[32m━━━━━━━━━━━━━━━━━━━━\u001b[0m\u001b[37m\u001b[0m \u001b[1m61s\u001b[0m 679ms/step - accuracy: 0.8867 - loss: 1.1031 - val_accuracy: 0.6001 - val_loss: 2.4178\n",
      "Epoch 36/100\n",
      "\u001b[1m90/90\u001b[0m \u001b[32m━━━━━━━━━━━━━━━━━━━━\u001b[0m\u001b[37m\u001b[0m \u001b[1m55s\u001b[0m 608ms/step - accuracy: 0.8895 - loss: 1.0963 - val_accuracy: 0.5964 - val_loss: 2.4897\n",
      "Epoch 37/100\n",
      "\u001b[1m90/90\u001b[0m \u001b[32m━━━━━━━━━━━━━━━━━━━━\u001b[0m\u001b[37m\u001b[0m \u001b[1m51s\u001b[0m 571ms/step - accuracy: 0.8850 - loss: 1.1105 - val_accuracy: 0.5987 - val_loss: 2.5205\n",
      "Epoch 38/100\n",
      "\u001b[1m90/90\u001b[0m \u001b[32m━━━━━━━━━━━━━━━━━━━━\u001b[0m\u001b[37m\u001b[0m \u001b[1m52s\u001b[0m 575ms/step - accuracy: 0.8784 - loss: 1.1251 - val_accuracy: 0.6018 - val_loss: 2.4840\n",
      "Epoch 39/100\n",
      "\u001b[1m90/90\u001b[0m \u001b[32m━━━━━━━━━━━━━━━━━━━━\u001b[0m\u001b[37m\u001b[0m \u001b[1m49s\u001b[0m 540ms/step - accuracy: 0.8898 - loss: 1.0892 - val_accuracy: 0.5799 - val_loss: 2.5043\n",
      "Epoch 40/100\n",
      "\u001b[1m90/90\u001b[0m \u001b[32m━━━━━━━━━━━━━━━━━━━━\u001b[0m\u001b[37m\u001b[0m \u001b[1m49s\u001b[0m 545ms/step - accuracy: 0.8898 - loss: 1.0860 - val_accuracy: 0.6055 - val_loss: 2.4908\n",
      "Epoch 41/100\n",
      "\u001b[1m90/90\u001b[0m \u001b[32m━━━━━━━━━━━━━━━━━━━━\u001b[0m\u001b[37m\u001b[0m \u001b[1m48s\u001b[0m 534ms/step - accuracy: 0.8836 - loss: 1.1037 - val_accuracy: 0.6020 - val_loss: 2.5275\n",
      "Epoch 42/100\n",
      "\u001b[1m90/90\u001b[0m \u001b[32m━━━━━━━━━━━━━━━━━━━━\u001b[0m\u001b[37m\u001b[0m \u001b[1m52s\u001b[0m 579ms/step - accuracy: 0.8836 - loss: 1.1019 - val_accuracy: 0.6002 - val_loss: 2.4351\n",
      "Epoch 43/100\n",
      "\u001b[1m90/90\u001b[0m \u001b[32m━━━━━━━━━━━━━━━━━━━━\u001b[0m\u001b[37m\u001b[0m \u001b[1m55s\u001b[0m 609ms/step - accuracy: 0.8761 - loss: 1.1188 - val_accuracy: 0.5983 - val_loss: 2.3797\n",
      "Epoch 44/100\n",
      "\u001b[1m90/90\u001b[0m \u001b[32m━━━━━━━━━━━━━━━━━━━━\u001b[0m\u001b[37m\u001b[0m \u001b[1m66s\u001b[0m 734ms/step - accuracy: 0.8865 - loss: 1.0984 - val_accuracy: 0.5995 - val_loss: 2.4635\n",
      "Epoch 45/100\n",
      "\u001b[1m90/90\u001b[0m \u001b[32m━━━━━━━━━━━━━━━━━━━━\u001b[0m\u001b[37m\u001b[0m \u001b[1m65s\u001b[0m 719ms/step - accuracy: 0.8869 - loss: 1.1077 - val_accuracy: 0.6029 - val_loss: 2.4645\n",
      "Epoch 46/100\n",
      "\u001b[1m90/90\u001b[0m \u001b[32m━━━━━━━━━━━━━━━━━━━━\u001b[0m\u001b[37m\u001b[0m \u001b[1m73s\u001b[0m 813ms/step - accuracy: 0.8872 - loss: 1.1035 - val_accuracy: 0.5886 - val_loss: 2.4743\n",
      "Epoch 47/100\n",
      "\u001b[1m90/90\u001b[0m \u001b[32m━━━━━━━━━━━━━━━━━━━━\u001b[0m\u001b[37m\u001b[0m \u001b[1m72s\u001b[0m 804ms/step - accuracy: 0.8872 - loss: 1.1021 - val_accuracy: 0.5971 - val_loss: 2.4987\n",
      "Epoch 48/100\n",
      "\u001b[1m90/90\u001b[0m \u001b[32m━━━━━━━━━━━━━━━━━━━━\u001b[0m\u001b[37m\u001b[0m \u001b[1m70s\u001b[0m 778ms/step - accuracy: 0.8822 - loss: 1.1196 - val_accuracy: 0.5821 - val_loss: 2.5142\n",
      "Epoch 49/100\n",
      "\u001b[1m90/90\u001b[0m \u001b[32m━━━━━━━━━━━━━━━━━━━━\u001b[0m\u001b[37m\u001b[0m \u001b[1m69s\u001b[0m 770ms/step - accuracy: 0.8818 - loss: 1.1149 - val_accuracy: 0.6049 - val_loss: 2.4050\n",
      "Epoch 50/100\n",
      "\u001b[1m90/90\u001b[0m \u001b[32m━━━━━━━━━━━━━━━━━━━━\u001b[0m\u001b[37m\u001b[0m \u001b[1m68s\u001b[0m 751ms/step - accuracy: 0.8916 - loss: 1.0926 - val_accuracy: 0.5928 - val_loss: 2.5009\n",
      "Epoch 51/100\n",
      "\u001b[1m90/90\u001b[0m \u001b[32m━━━━━━━━━━━━━━━━━━━━\u001b[0m\u001b[37m\u001b[0m \u001b[1m66s\u001b[0m 729ms/step - accuracy: 0.8918 - loss: 1.0954 - val_accuracy: 0.5926 - val_loss: 2.5008\n",
      "Epoch 52/100\n",
      "\u001b[1m90/90\u001b[0m \u001b[32m━━━━━━━━━━━━━━━━━━━━\u001b[0m\u001b[37m\u001b[0m \u001b[1m66s\u001b[0m 739ms/step - accuracy: 0.8877 - loss: 1.0919 - val_accuracy: 0.5821 - val_loss: 2.5275\n",
      "Epoch 53/100\n",
      "\u001b[1m90/90\u001b[0m \u001b[32m━━━━━━━━━━━━━━━━━━━━\u001b[0m\u001b[37m\u001b[0m \u001b[1m66s\u001b[0m 737ms/step - accuracy: 0.8886 - loss: 1.1020 - val_accuracy: 0.5968 - val_loss: 2.4305\n",
      "Epoch 54/100\n",
      "\u001b[1m90/90\u001b[0m \u001b[32m━━━━━━━━━━━━━━━━━━━━\u001b[0m\u001b[37m\u001b[0m \u001b[1m54s\u001b[0m 605ms/step - accuracy: 0.8914 - loss: 1.0921 - val_accuracy: 0.5966 - val_loss: 2.4596\n",
      "Epoch 55/100\n",
      "\u001b[1m90/90\u001b[0m \u001b[32m━━━━━━━━━━━━━━━━━━━━\u001b[0m\u001b[37m\u001b[0m \u001b[1m52s\u001b[0m 573ms/step - accuracy: 0.8919 - loss: 1.0829 - val_accuracy: 0.6091 - val_loss: 2.4383\n",
      "Epoch 56/100\n",
      "\u001b[1m90/90\u001b[0m \u001b[32m━━━━━━━━━━━━━━━━━━━━\u001b[0m\u001b[37m\u001b[0m \u001b[1m54s\u001b[0m 606ms/step - accuracy: 0.8914 - loss: 1.0968 - val_accuracy: 0.5968 - val_loss: 2.4654\n",
      "Epoch 57/100\n",
      "\u001b[1m90/90\u001b[0m \u001b[32m━━━━━━━━━━━━━━━━━━━━\u001b[0m\u001b[37m\u001b[0m \u001b[1m60s\u001b[0m 671ms/step - accuracy: 0.8827 - loss: 1.1019 - val_accuracy: 0.5830 - val_loss: 2.5619\n",
      "Epoch 58/100\n",
      "\u001b[1m90/90\u001b[0m \u001b[32m━━━━━━━━━━━━━━━━━━━━\u001b[0m\u001b[37m\u001b[0m \u001b[1m62s\u001b[0m 695ms/step - accuracy: 0.8836 - loss: 1.1161 - val_accuracy: 0.5975 - val_loss: 2.4616\n",
      "Epoch 59/100\n",
      "\u001b[1m90/90\u001b[0m \u001b[32m━━━━━━━━━━━━━━━━━━━━\u001b[0m\u001b[37m\u001b[0m \u001b[1m61s\u001b[0m 684ms/step - accuracy: 0.8909 - loss: 1.0910 - val_accuracy: 0.5891 - val_loss: 2.4972\n",
      "Epoch 60/100\n",
      "\u001b[1m90/90\u001b[0m \u001b[32m━━━━━━━━━━━━━━━━━━━━\u001b[0m\u001b[37m\u001b[0m \u001b[1m64s\u001b[0m 713ms/step - accuracy: 0.8933 - loss: 1.0885 - val_accuracy: 0.6004 - val_loss: 2.4633\n",
      "Epoch 61/100\n",
      "\u001b[1m90/90\u001b[0m \u001b[32m━━━━━━━━━━━━━━━━━━━━\u001b[0m\u001b[37m\u001b[0m \u001b[1m64s\u001b[0m 707ms/step - accuracy: 0.8930 - loss: 1.0922 - val_accuracy: 0.5997 - val_loss: 2.4271\n",
      "Epoch 62/100\n",
      "\u001b[1m90/90\u001b[0m \u001b[32m━━━━━━━━━━━━━━━━━━━━\u001b[0m\u001b[37m\u001b[0m \u001b[1m63s\u001b[0m 699ms/step - accuracy: 0.8879 - loss: 1.1029 - val_accuracy: 0.5976 - val_loss: 2.4789\n",
      "Epoch 63/100\n",
      "\u001b[1m90/90\u001b[0m \u001b[32m━━━━━━━━━━━━━━━━━━━━\u001b[0m\u001b[37m\u001b[0m \u001b[1m64s\u001b[0m 716ms/step - accuracy: 0.9018 - loss: 1.0699 - val_accuracy: 0.5959 - val_loss: 2.4760\n",
      "Epoch 64/100\n",
      "\u001b[1m90/90\u001b[0m \u001b[32m━━━━━━━━━━━━━━━━━━━━\u001b[0m\u001b[37m\u001b[0m \u001b[1m64s\u001b[0m 710ms/step - accuracy: 0.8895 - loss: 1.0950 - val_accuracy: 0.5985 - val_loss: 2.4456\n",
      "Epoch 65/100\n",
      "\u001b[1m90/90\u001b[0m \u001b[32m━━━━━━━━━━━━━━━━━━━━\u001b[0m\u001b[37m\u001b[0m \u001b[1m69s\u001b[0m 764ms/step - accuracy: 0.8928 - loss: 1.0845 - val_accuracy: 0.5982 - val_loss: 2.4921\n",
      "Epoch 66/100\n",
      "\u001b[1m90/90\u001b[0m \u001b[32m━━━━━━━━━━━━━━━━━━━━\u001b[0m\u001b[37m\u001b[0m \u001b[1m70s\u001b[0m 784ms/step - accuracy: 0.8881 - loss: 1.0835 - val_accuracy: 0.6055 - val_loss: 2.4613\n",
      "Epoch 67/100\n",
      "\u001b[1m90/90\u001b[0m \u001b[32m━━━━━━━━━━━━━━━━━━━━\u001b[0m\u001b[37m\u001b[0m \u001b[1m74s\u001b[0m 823ms/step - accuracy: 0.8937 - loss: 1.0773 - val_accuracy: 0.5952 - val_loss: 2.5053\n",
      "Epoch 68/100\n",
      "\u001b[1m90/90\u001b[0m \u001b[32m━━━━━━━━━━━━━━━━━━━━\u001b[0m\u001b[37m\u001b[0m \u001b[1m73s\u001b[0m 816ms/step - accuracy: 0.8864 - loss: 1.0895 - val_accuracy: 0.5976 - val_loss: 2.4595\n",
      "Epoch 69/100\n",
      "\u001b[1m90/90\u001b[0m \u001b[32m━━━━━━━━━━━━━━━━━━━━\u001b[0m\u001b[37m\u001b[0m \u001b[1m74s\u001b[0m 821ms/step - accuracy: 0.8945 - loss: 1.0657 - val_accuracy: 0.5898 - val_loss: 2.6455\n",
      "Epoch 70/100\n",
      "\u001b[1m90/90\u001b[0m \u001b[32m━━━━━━━━━━━━━━━━━━━━\u001b[0m\u001b[37m\u001b[0m \u001b[1m73s\u001b[0m 813ms/step - accuracy: 0.8930 - loss: 1.0834 - val_accuracy: 0.5901 - val_loss: 2.5135\n",
      "Epoch 71/100\n",
      "\u001b[1m90/90\u001b[0m \u001b[32m━━━━━━━━━━━━━━━━━━━━\u001b[0m\u001b[37m\u001b[0m \u001b[1m73s\u001b[0m 808ms/step - accuracy: 0.8937 - loss: 1.0739 - val_accuracy: 0.5908 - val_loss: 2.5699\n",
      "Epoch 72/100\n",
      "\u001b[1m90/90\u001b[0m \u001b[32m━━━━━━━━━━━━━━━━━━━━\u001b[0m\u001b[37m\u001b[0m \u001b[1m73s\u001b[0m 809ms/step - accuracy: 0.9062 - loss: 1.0531 - val_accuracy: 0.5948 - val_loss: 2.4905\n",
      "Epoch 73/100\n",
      "\u001b[1m90/90\u001b[0m \u001b[32m━━━━━━━━━━━━━━━━━━━━\u001b[0m\u001b[37m\u001b[0m \u001b[1m72s\u001b[0m 797ms/step - accuracy: 0.8945 - loss: 1.0710 - val_accuracy: 0.5997 - val_loss: 2.5107\n",
      "Epoch 74/100\n",
      "\u001b[1m90/90\u001b[0m \u001b[32m━━━━━━━━━━━━━━━━━━━━\u001b[0m\u001b[37m\u001b[0m \u001b[1m68s\u001b[0m 753ms/step - accuracy: 0.8926 - loss: 1.0901 - val_accuracy: 0.5971 - val_loss: 2.5137\n",
      "Epoch 75/100\n",
      "\u001b[1m90/90\u001b[0m \u001b[32m━━━━━━━━━━━━━━━━━━━━\u001b[0m\u001b[37m\u001b[0m \u001b[1m63s\u001b[0m 698ms/step - accuracy: 0.8914 - loss: 1.0959 - val_accuracy: 0.5893 - val_loss: 2.4953\n",
      "Epoch 76/100\n",
      "\u001b[1m90/90\u001b[0m \u001b[32m━━━━━━━━━━━━━━━━━━━━\u001b[0m\u001b[37m\u001b[0m \u001b[1m69s\u001b[0m 770ms/step - accuracy: 0.8937 - loss: 1.0921 - val_accuracy: 0.5891 - val_loss: 2.5001\n",
      "Epoch 77/100\n",
      "\u001b[1m90/90\u001b[0m \u001b[32m━━━━━━━━━━━━━━━━━━━━\u001b[0m\u001b[37m\u001b[0m \u001b[1m69s\u001b[0m 773ms/step - accuracy: 0.9006 - loss: 1.0789 - val_accuracy: 0.5928 - val_loss: 2.5510\n",
      "Epoch 78/100\n",
      "\u001b[1m90/90\u001b[0m \u001b[32m━━━━━━━━━━━━━━━━━━━━\u001b[0m\u001b[37m\u001b[0m \u001b[1m69s\u001b[0m 762ms/step - accuracy: 0.8984 - loss: 1.0783 - val_accuracy: 0.5919 - val_loss: 2.5466\n",
      "Epoch 79/100\n",
      "\u001b[1m90/90\u001b[0m \u001b[32m━━━━━━━━━━━━━━━━━━━━\u001b[0m\u001b[37m\u001b[0m \u001b[1m68s\u001b[0m 759ms/step - accuracy: 0.8992 - loss: 1.0687 - val_accuracy: 0.5887 - val_loss: 2.5242\n",
      "Epoch 80/100\n",
      "\u001b[1m90/90\u001b[0m \u001b[32m━━━━━━━━━━━━━━━━━━━━\u001b[0m\u001b[37m\u001b[0m \u001b[1m70s\u001b[0m 779ms/step - accuracy: 0.8998 - loss: 1.0693 - val_accuracy: 0.5931 - val_loss: 2.5026\n",
      "Epoch 81/100\n",
      "\u001b[1m90/90\u001b[0m \u001b[32m━━━━━━━━━━━━━━━━━━━━\u001b[0m\u001b[37m\u001b[0m \u001b[1m69s\u001b[0m 770ms/step - accuracy: 0.8978 - loss: 1.0800 - val_accuracy: 0.5827 - val_loss: 2.5251\n",
      "Epoch 82/100\n",
      "\u001b[1m90/90\u001b[0m \u001b[32m━━━━━━━━━━━━━━━━━━━━\u001b[0m\u001b[37m\u001b[0m \u001b[1m70s\u001b[0m 773ms/step - accuracy: 0.8958 - loss: 1.0708 - val_accuracy: 0.5995 - val_loss: 2.4326\n",
      "Epoch 83/100\n",
      "\u001b[1m90/90\u001b[0m \u001b[32m━━━━━━━━━━━━━━━━━━━━\u001b[0m\u001b[37m\u001b[0m \u001b[1m70s\u001b[0m 773ms/step - accuracy: 0.8956 - loss: 1.0678 - val_accuracy: 0.5870 - val_loss: 2.5608\n",
      "Epoch 84/100\n",
      "\u001b[1m90/90\u001b[0m \u001b[32m━━━━━━━━━━━━━━━━━━━━\u001b[0m\u001b[37m\u001b[0m \u001b[1m70s\u001b[0m 782ms/step - accuracy: 0.9017 - loss: 1.0564 - val_accuracy: 0.5907 - val_loss: 2.4843\n",
      "Epoch 85/100\n",
      "\u001b[1m90/90\u001b[0m \u001b[32m━━━━━━━━━━━━━━━━━━━━\u001b[0m\u001b[37m\u001b[0m \u001b[1m67s\u001b[0m 747ms/step - accuracy: 0.8985 - loss: 1.0603 - val_accuracy: 0.6011 - val_loss: 2.4161\n",
      "Epoch 86/100\n",
      "\u001b[1m90/90\u001b[0m \u001b[32m━━━━━━━━━━━━━━━━━━━━\u001b[0m\u001b[37m\u001b[0m \u001b[1m65s\u001b[0m 725ms/step - accuracy: 0.9050 - loss: 1.0617 - val_accuracy: 0.6009 - val_loss: 2.4887\n",
      "Epoch 87/100\n",
      "\u001b[1m90/90\u001b[0m \u001b[32m━━━━━━━━━━━━━━━━━━━━\u001b[0m\u001b[37m\u001b[0m \u001b[1m63s\u001b[0m 702ms/step - accuracy: 0.8958 - loss: 1.0718 - val_accuracy: 0.5905 - val_loss: 2.5227\n",
      "Epoch 88/100\n",
      "\u001b[1m90/90\u001b[0m \u001b[32m━━━━━━━━━━━━━━━━━━━━\u001b[0m\u001b[37m\u001b[0m \u001b[1m62s\u001b[0m 683ms/step - accuracy: 0.9027 - loss: 1.0527 - val_accuracy: 0.5983 - val_loss: 2.4733\n",
      "Epoch 89/100\n",
      "\u001b[1m90/90\u001b[0m \u001b[32m━━━━━━━━━━━━━━━━━━━━\u001b[0m\u001b[37m\u001b[0m \u001b[1m61s\u001b[0m 676ms/step - accuracy: 0.9062 - loss: 1.0403 - val_accuracy: 0.5997 - val_loss: 2.4880\n",
      "Epoch 90/100\n",
      "\u001b[1m90/90\u001b[0m \u001b[32m━━━━━━━━━━━━━━━━━━━━\u001b[0m\u001b[37m\u001b[0m \u001b[1m61s\u001b[0m 676ms/step - accuracy: 0.9006 - loss: 1.0540 - val_accuracy: 0.5938 - val_loss: 2.5155\n",
      "Epoch 91/100\n",
      "\u001b[1m90/90\u001b[0m \u001b[32m━━━━━━━━━━━━━━━━━━━━\u001b[0m\u001b[37m\u001b[0m \u001b[1m60s\u001b[0m 670ms/step - accuracy: 0.9074 - loss: 1.0331 - val_accuracy: 0.5802 - val_loss: 2.5567\n",
      "Epoch 92/100\n",
      "\u001b[1m90/90\u001b[0m \u001b[32m━━━━━━━━━━━━━━━━━━━━\u001b[0m\u001b[37m\u001b[0m \u001b[1m61s\u001b[0m 676ms/step - accuracy: 0.9022 - loss: 1.0525 - val_accuracy: 0.6013 - val_loss: 2.5421\n",
      "Epoch 93/100\n",
      "\u001b[1m90/90\u001b[0m \u001b[32m━━━━━━━━━━━━━━━━━━━━\u001b[0m\u001b[37m\u001b[0m \u001b[1m60s\u001b[0m 672ms/step - accuracy: 0.9020 - loss: 1.0394 - val_accuracy: 0.6053 - val_loss: 2.4813\n",
      "Epoch 94/100\n",
      "\u001b[1m90/90\u001b[0m \u001b[32m━━━━━━━━━━━━━━━━━━━━\u001b[0m\u001b[37m\u001b[0m \u001b[1m62s\u001b[0m 690ms/step - accuracy: 0.9057 - loss: 1.0437 - val_accuracy: 0.5901 - val_loss: 2.5206\n",
      "Epoch 95/100\n",
      "\u001b[1m90/90\u001b[0m \u001b[32m━━━━━━━━━━━━━━━━━━━━\u001b[0m\u001b[37m\u001b[0m \u001b[1m61s\u001b[0m 676ms/step - accuracy: 0.8968 - loss: 1.0607 - val_accuracy: 0.6020 - val_loss: 2.4676\n",
      "Epoch 96/100\n",
      "\u001b[1m90/90\u001b[0m \u001b[32m━━━━━━━━━━━━━━━━━━━━\u001b[0m\u001b[37m\u001b[0m \u001b[1m58s\u001b[0m 647ms/step - accuracy: 0.8980 - loss: 1.0633 - val_accuracy: 0.5948 - val_loss: 2.6112\n",
      "Epoch 97/100\n",
      "\u001b[1m90/90\u001b[0m \u001b[32m━━━━━━━━━━━━━━━━━━━━\u001b[0m\u001b[37m\u001b[0m \u001b[1m55s\u001b[0m 613ms/step - accuracy: 0.8921 - loss: 1.0788 - val_accuracy: 0.5973 - val_loss: 2.4824\n",
      "Epoch 98/100\n",
      "\u001b[1m90/90\u001b[0m \u001b[32m━━━━━━━━━━━━━━━━━━━━\u001b[0m\u001b[37m\u001b[0m \u001b[1m57s\u001b[0m 632ms/step - accuracy: 0.8970 - loss: 1.0659 - val_accuracy: 0.6016 - val_loss: 2.5251\n",
      "Epoch 99/100\n",
      "\u001b[1m90/90\u001b[0m \u001b[32m━━━━━━━━━━━━━━━━━━━━\u001b[0m\u001b[37m\u001b[0m \u001b[1m56s\u001b[0m 625ms/step - accuracy: 0.8938 - loss: 1.0713 - val_accuracy: 0.5879 - val_loss: 2.5310\n",
      "Epoch 100/100\n",
      "\u001b[1m90/90\u001b[0m \u001b[32m━━━━━━━━━━━━━━━━━━━━\u001b[0m\u001b[37m\u001b[0m \u001b[1m63s\u001b[0m 695ms/step - accuracy: 0.9085 - loss: 1.0428 - val_accuracy: 0.5978 - val_loss: 2.5209\n"
     ]
    },
    {
     "name": "stdout",
     "output_type": "stream",
     "text": [
      "359/359 [==============================] - 29s 82ms/step - loss: 1.3231 - accuracy: 0.6664 - val_loss: 1.3850 - val_accuracy: 0.6571\n",
      "Epoch 58/60\n",
      "359/359 [==============================] - 30s 82ms/step - loss: 1.3126 - accuracy: 0.6677 - val_loss: 1.4074 - val_accuracy: 0.6446\n",
      "Epoch 59/60\n",
      "359/359 [==============================] - 29s 82ms/step - loss: 1.3206 - accuracy: 0.6664 - val_loss: 1.3899 - val_accuracy: 0.6578\n",
      "Epoch 60/60\n",
      "359/359 [==============================] - 30s 82ms/step - loss: 1.3137 - accuracy: 0.6702 - val_loss: 1.4016 - val_accuracy: 0.6522\n"
     ]
    }
   ],
   "source": [
    "epochs = 100\n",
    "batch_size = 64\n",
    "history = model.fit(x = train_generator,epochs = epochs,validation_data = validation_generator)"
   ]
  },
  {
   "cell_type": "code",
   "execution_count": 45,
   "metadata": {},
   "outputs": [
    {
     "data": {
      "image/png": "[encoded data removed]",
      "text/plain": [
       "<Figure size 1200x400 with 2 Axes>"
      ]
     },
     "metadata": {},
     "output_type": "display_data"
    }
   ],
   "source": [
    "fig , ax = plt.subplots(1,2)\n",
    "train_acc = history.history['accuracy']\n",
    "train_loss = history.history['loss']\n",
    "fig.set_size_inches(12,4)\n",
    "\n",
    "ax[0].plot(history.history['accuracy'])\n",
    "ax[0].plot(history.history['val_accuracy'])\n",
    "ax[0].set_title('Training Accuracy vs Validation Accuracy')\n",
    "ax[0].set_ylabel('Accuracy')\n",
    "ax[0].set_xlabel('Epoch')\n",
    "ax[0].legend(['Train', 'Validation'], loc='upper left')\n",
    "\n",
    "ax[1].plot(history.history['loss'])\n",
    "ax[1].plot(history.history['val_loss'])\n",
    "ax[1].set_title('Training Loss vs Validation Loss')\n",
    "ax[1].set_ylabel('Loss')\n",
    "ax[1].set_xlabel('Epoch')\n",
    "ax[1].legend(['Train', 'Validation'], loc='upper left')\n",
    "\n",
    "plt.show()"
   ]
  },
  {
   "cell_type": "code",
   "execution_count": 46,
   "metadata": {},
   "outputs": [
    {
     "name": "stderr",
     "output_type": "stream",
     "text": [
      "WARNING:absl:You are saving your model as an HDF5 file via `model.save()` or `keras.saving.save_model(model)`. This file format is considered legacy. We recommend using instead the native Keras format, e.g. `model.save('my_model.keras')` or `keras.saving.save_model(model, 'my_model.keras')`. \n"
     ]
    }
   ],
   "source": [
    "model.save('model_optimal.h5')"
   ]
  },
  {
   "cell_type": "code",
   "execution_count": 49,
   "metadata": {},
   "outputs": [
    {
     "name": "stdout",
     "output_type": "stream",
     "text": [
      "(48, 48)\n"
     ]
    },
    {
     "data": {
      "image/png": "[encoded data removed]",
      "text/plain": [
       "<Figure size 640x480 with 1 Axes>"
      ]
     },
     "metadata": {},
     "output_type": "display_data"
    }
   ],
   "source": [
    "img = image.load_img(\"C:/Users/cryin/Work/vc-emotion-detection-master/dataset/train/happy/im1021.png\",target_size = (48,48),color_mode = \"grayscale\")\n",
    "img = np.array(img)\n",
    "plt.imshow(img)\n",
    "print(img.shape) #prints (48,48) that is the shape of our image"
   ]
  },
  {
   "cell_type": "code",
   "execution_count": 50,
   "metadata": {},
   "outputs": [],
   "source": [
    "label_dict = {0:'Angry',1:'Disgust',2:'Fear',3:'Happy',4:'Neutral',5:'Sad',6:'Surprise'}"
   ]
  },
  {
   "cell_type": "code",
   "execution_count": 51,
   "metadata": {},
   "outputs": [
    {
     "name": "stdout",
     "output_type": "stream",
     "text": [
      "\u001b[1m1/1\u001b[0m \u001b[32m━━━━━━━━━━━━━━━━━━━━\u001b[0m\u001b[37m\u001b[0m \u001b[1m0s\u001b[0m 41ms/step\n",
      "[np.float32(0.0), np.float32(0.0), np.float32(0.0), np.float32(1.0), np.float32(0.0), np.float32(0.0), np.float32(0.0)]\n"
     ]
    }
   ],
   "source": [
    "img = np.expand_dims(img,axis = 0) #makes image shape (1,48,48)\n",
    "img = img.reshape(1,48,48,1)\n",
    "result = model.predict(img)\n",
    "result = list(result[0])\n",
    "print(result)"
   ]
  },
  {
   "cell_type": "code",
   "execution_count": 52,
   "metadata": {},
   "outputs": [
    {
     "name": "stdout",
     "output_type": "stream",
     "text": [
      "Happy\n"
     ]
    }
   ],
   "source": [
    "img_index = result.index(max(result))\n",
    "print(label_dict[img_index])\n",
    "plt.show()"
   ]
  },
  {
   "cell_type": "code",
   "execution_count": 53,
   "metadata": {},
   "outputs": [
    {
     "name": "stdout",
     "output_type": "stream",
     "text": [
      "\u001b[1m90/90\u001b[0m \u001b[32m━━━━━━━━━━━━━━━━━━━━\u001b[0m\u001b[37m\u001b[0m \u001b[1m12s\u001b[0m 134ms/step - accuracy: 0.9807 - loss: 0.8472\n",
      "\u001b[1m90/90\u001b[0m \u001b[32m━━━━━━━━━━━━━━━━━━━━\u001b[0m\u001b[37m\u001b[0m \u001b[1m11s\u001b[0m 125ms/step - accuracy: 0.5978 - loss: 2.5209\n",
      "final train accuracy = 98.07 , validation accuracy = 59.78\n"
     ]
    }
   ],
   "source": [
    "train_loss, train_acc = model.evaluate(train_generator)\n",
    "test_loss, test_acc   = model.evaluate(validation_generator)\n",
    "print(\"final train accuracy = {:.2f} , validation accuracy = {:.2f}\".format(train_acc*100, test_acc*100))"
   ]
  },
  {
   "cell_type": "code",
   "execution_count": 47,
   "metadata": {},
   "outputs": [],
   "source": [
    "model.save_weights('model_weights.weights.h5')"
   ]
  },
  {
   "cell_type": "code",
   "execution_count": null,
   "metadata": {},
   "outputs": [],
   "source": []
  }
 ],
 "metadata": {
  "kernelspec": {
   "display_name": "Python 3 (ipykernel)",
   "language": "python",
   "name": "python3"
  },
  "language_info": {
   "codemirror_mode": {
    "name": "ipython",
    "version": 3
   },
   "file_extension": ".py",
   "mimetype": "text/x-python",
   "name": "python",
   "nbconvert_exporter": "python",
   "pygments_lexer": "ipython3",
   "version": "3.12.4"
  }
 },
 "nbformat": 4,
 "nbformat_minor": 4
}
